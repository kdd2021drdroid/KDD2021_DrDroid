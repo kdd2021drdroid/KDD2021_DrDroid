{
 "cells": [
  {
   "cell_type": "code",
   "execution_count": null,
   "metadata": {},
   "outputs": [],
   "source": [
    "from layer import TemporalLayer, SpatialLayer\n",
    "import torch.nn.functional as F\n",
    "import torch\n",
    "import torch.nn as nn\n",
    "from utils import get_graph_for_day, get_label\n",
    "import pandas as pd \n",
    "import numpy as np"
   ]
  },
  {
   "cell_type": "code",
   "execution_count": null,
   "metadata": {},
   "outputs": [],
   "source": [
    "node_states = []\n",
    "adjacencies = []\n",
    "relation_es = []\n",
    "\n",
    "for day in range(6, 8):\n",
    "    feat, adjacency_matrix, point_e, relation_e, entity_index = get_graph_for_day(day, 10)\n",
    "    node_states.append(torch.tensor(feat).float())\n",
    "    adjacencies.append(torch.tensor(adjacency_matrix))\n",
    "    relation_es.append(torch.tensor(relation_e))"
   ]
  },
  {
   "cell_type": "code",
   "execution_count": null,
   "metadata": {},
   "outputs": [],
   "source": [
    "train_mask, test_mask, train_label, test_label = get_label()"
   ]
  },
  {
   "cell_type": "code",
   "execution_count": null,
   "metadata": {},
   "outputs": [],
   "source": [
    "train_mask = torch.tensor(train_mask)\n",
    "test_mask = torch.tensor(test_mask)\n",
    "train_label = torch.tensor(train_label)\n",
    "test_label = torch.tensor(test_label)"
   ]
  },
  {
   "cell_type": "code",
   "execution_count": null,
   "metadata": {},
   "outputs": [],
   "source": [
    "class HTGT(torch.nn.Module):\n",
    "    def __init__(self, entity_index):\n",
    "        super(HTGT, self).__init__()\n",
    "        self.temporal_layer = TemporalLayer(entity_index, 128, 32, F.relu)\n",
    "        self.spatial_layer = SpatialLayer(32, 32, 15 , 5, nn.ELU())\n",
    "        self.mlp = nn.Linear(32, 2)\n",
    "        self.buffer = []\n",
    "        \n",
    "    def forward(self, node_states, adjacencies, point_enc, relation_encs, mask):\n",
    "        for index in range(len(node_states)):\n",
    "            node_state = node_states[index]\n",
    "            adjacency = adjacencies[index]\n",
    "            relation_enc = relation_encs[index]\n",
    "            if index == 0:\n",
    "                this_buffer = torch.zeros((len(node_state), 1, 32)).type(torch.FloatTensor)\n",
    "            else:\n",
    "                this_buffer = self.buffer\n",
    "            emb = self.temporal_layer(node_state, this_buffer)\n",
    "            emb = self.spatial_layer(emb, adjacency, point_enc, relation_enc)\n",
    "            if index == 0:\n",
    "                self.buffer = torch.unsqueeze(emb, 1)\n",
    "            else:\n",
    "                self.buffer = torch.cat([self.buffer, torch.unsqueeze(emb, 1)], 1)\n",
    "        self.buffer = []\n",
    "        emb = emb[mask]\n",
    "        logits = self.mlp(emb.float())\n",
    "        return logits\n",
    "    \n",
    "    def predict(self, node_states, adjacencies, point_enc, relation_encs, mask):\n",
    "        #Apply softmax to output. \n",
    "        pred = F.softmax(self.forward(node_states, adjacencies, point_enc, relation_encs, mask))\n",
    "        ans = []\n",
    "        #Pick the class with maximum weight\n",
    "        for t in pred:\n",
    "            if t[0]>t[1]:\n",
    "                ans.append(0)\n",
    "            else:\n",
    "                ans.append(1)\n",
    "        return torch.tensor(ans)"
   ]
  },
  {
   "cell_type": "code",
   "execution_count": null,
   "metadata": {},
   "outputs": [],
   "source": [
    "model = HTGT(entity_index)"
   ]
  },
  {
   "cell_type": "code",
   "execution_count": null,
   "metadata": {},
   "outputs": [],
   "source": [
    "criterion = nn.CrossEntropyLoss()\n",
    "optimizer = torch.optim.Adam(model.parameters(), lr=0.005)"
   ]
  },
  {
   "cell_type": "code",
   "execution_count": null,
   "metadata": {},
   "outputs": [],
   "source": [
    "from sklearn.metrics import accuracy_score\n",
    "\n",
    "for e in range(5000):\n",
    "    y_pred = model(node_states, adjacencies, point_e, relation_es, train_mask)\n",
    "    loss = criterion(y_pred,  train_label)\n",
    "    print(loss)\n",
    "    optimizer.zero_grad()\n",
    "    loss.backward()\n",
    "    optimizer.step()\n",
    "    print(accuracy_score(model.predict(node_states, adjacencies, point_e, relation_es, test_mask), test_label))"
   ]
  },
  {
   "cell_type": "code",
   "execution_count": null,
   "metadata": {},
   "outputs": [],
   "source": [
    "adjacencies[0][train_mask]"
   ]
  },
  {
   "cell_type": "code",
   "execution_count": null,
   "metadata": {},
   "outputs": [],
   "source": []
  },
  {
   "cell_type": "code",
   "execution_count": null,
   "metadata": {},
   "outputs": [],
   "source": []
  }
 ],
 "metadata": {
  "kernelspec": {
   "display_name": "Python 3",
   "language": "python",
   "name": "python3"
  },
  "language_info": {
   "codemirror_mode": {
    "name": "ipython",
    "version": 3
   },
   "file_extension": ".py",
   "mimetype": "text/x-python",
   "name": "python",
   "nbconvert_exporter": "python",
   "pygments_lexer": "ipython3",
   "version": "3.7.6"
  }
 },
 "nbformat": 4,
 "nbformat_minor": 4
}
